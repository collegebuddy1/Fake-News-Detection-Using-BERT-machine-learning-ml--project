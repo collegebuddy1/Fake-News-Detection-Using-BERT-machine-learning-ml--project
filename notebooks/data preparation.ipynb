{
 "cells": [
  {
   "cell_type": "code",
   "execution_count": 1,
   "metadata": {},
   "outputs": [],
   "source": [
    "import pandas as pd\n",
    "\n",
    "df1 = pd.read_csv('capstone_data_new.csv')"
   ]
  },
  {
   "cell_type": "code",
   "execution_count": 271,
   "metadata": {
    "scrolled": false
   },
   "outputs": [
    {
     "data": {
      "text/html": [
       "<div>\n",
       "<style scoped>\n",
       "    .dataframe tbody tr th:only-of-type {\n",
       "        vertical-align: middle;\n",
       "    }\n",
       "\n",
       "    .dataframe tbody tr th {\n",
       "        vertical-align: top;\n",
       "    }\n",
       "\n",
       "    .dataframe thead th {\n",
       "        text-align: right;\n",
       "    }\n",
       "</style>\n",
       "<table border=\"1\" class=\"dataframe\">\n",
       "  <thead>\n",
       "    <tr style=\"text-align: right;\">\n",
       "      <th></th>\n",
       "      <th>Unnamed: 0</th>\n",
       "      <th>text</th>\n",
       "      <th>label</th>\n",
       "      <th>length</th>\n",
       "    </tr>\n",
       "  </thead>\n",
       "  <tbody>\n",
       "    <tr>\n",
       "      <th>0</th>\n",
       "      <td>0</td>\n",
       "      <td>Says the Annies List political group supports ...</td>\n",
       "      <td>Fake</td>\n",
       "      <td>82</td>\n",
       "    </tr>\n",
       "    <tr>\n",
       "      <th>1</th>\n",
       "      <td>1</td>\n",
       "      <td>Hillary Clinton agrees with John McCain \"by vo...</td>\n",
       "      <td>Real</td>\n",
       "      <td>105</td>\n",
       "    </tr>\n",
       "    <tr>\n",
       "      <th>2</th>\n",
       "      <td>2</td>\n",
       "      <td>Health care reform legislation is likely to ma...</td>\n",
       "      <td>Fake</td>\n",
       "      <td>78</td>\n",
       "    </tr>\n",
       "    <tr>\n",
       "      <th>3</th>\n",
       "      <td>3</td>\n",
       "      <td>The Chicago Bears have had more starting quart...</td>\n",
       "      <td>Real</td>\n",
       "      <td>155</td>\n",
       "    </tr>\n",
       "    <tr>\n",
       "      <th>4</th>\n",
       "      <td>4</td>\n",
       "      <td>Says GOP primary opponents Glenn Grothman and ...</td>\n",
       "      <td>Real</td>\n",
       "      <td>132</td>\n",
       "    </tr>\n",
       "  </tbody>\n",
       "</table>\n",
       "</div>"
      ],
      "text/plain": [
       "   Unnamed: 0                                               text label  length\n",
       "0           0  Says the Annies List political group supports ...  Fake      82\n",
       "1           1  Hillary Clinton agrees with John McCain \"by vo...  Real     105\n",
       "2           2  Health care reform legislation is likely to ma...  Fake      78\n",
       "3           3  The Chicago Bears have had more starting quart...  Real     155\n",
       "4           4  Says GOP primary opponents Glenn Grothman and ...  Real     132"
      ]
     },
     "execution_count": 271,
     "metadata": {},
     "output_type": "execute_result"
    }
   ],
   "source": [
    "df1.head()"
   ]
  },
  {
   "cell_type": "code",
   "execution_count": 272,
   "metadata": {},
   "outputs": [
    {
     "data": {
      "text/plain": [
       "(98532, 4)"
      ]
     },
     "execution_count": 272,
     "metadata": {},
     "output_type": "execute_result"
    }
   ],
   "source": [
    "df1.shape"
   ]
  },
  {
   "cell_type": "markdown",
   "metadata": {},
   "source": [
    "### Segregating into short and long texts"
   ]
  },
  {
   "cell_type": "code",
   "execution_count": 273,
   "metadata": {
    "scrolled": true
   },
   "outputs": [
    {
     "data": {
      "text/plain": [
       "Fake    27747\n",
       "Real     4938\n",
       "Name: label, dtype: int64"
      ]
     },
     "execution_count": 273,
     "metadata": {},
     "output_type": "execute_result"
    }
   ],
   "source": [
    "df1[df1.length<280]['label'].value_counts()"
   ]
  },
  {
   "cell_type": "code",
   "execution_count": 274,
   "metadata": {},
   "outputs": [
    {
     "data": {
      "text/plain": [
       "Real    33292\n",
       "Fake    32550\n",
       "Name: label, dtype: int64"
      ]
     },
     "execution_count": 274,
     "metadata": {},
     "output_type": "execute_result"
    }
   ],
   "source": [
    "df1[df1.length>280]['label'].value_counts()"
   ]
  },
  {
   "cell_type": "code",
   "execution_count": 275,
   "metadata": {},
   "outputs": [],
   "source": [
    "df_short = df1[df1.length<280][['text', \"label\"]]\n",
    "df_long = df1[df1.length>280][['text', \"label\"]]"
   ]
  },
  {
   "cell_type": "markdown",
   "metadata": {},
   "source": [
    "### Working with short texts"
   ]
  },
  {
   "cell_type": "code",
   "execution_count": 276,
   "metadata": {
    "scrolled": true
   },
   "outputs": [
    {
     "data": {
      "text/plain": [
       "text     60\n",
       "label     0\n",
       "dtype: int64"
      ]
     },
     "execution_count": 276,
     "metadata": {},
     "output_type": "execute_result"
    }
   ],
   "source": [
    "df_short.isnull().sum()"
   ]
  },
  {
   "cell_type": "code",
   "execution_count": 277,
   "metadata": {
    "scrolled": true
   },
   "outputs": [],
   "source": [
    "df_short.dropna(inplace=True)"
   ]
  },
  {
   "cell_type": "code",
   "execution_count": 278,
   "metadata": {},
   "outputs": [
    {
     "data": {
      "text/plain": [
       "(32625, 2)"
      ]
     },
     "execution_count": 278,
     "metadata": {},
     "output_type": "execute_result"
    }
   ],
   "source": [
    "df_short.shape"
   ]
  },
  {
   "cell_type": "markdown",
   "metadata": {},
   "source": [
    "We need to represent data as numeric values for the model. We need to do something similar for the textual information from the *text* column, but as this is dependent of the model architecture, this is done in the subsequent notebook.\n",
    "\n",
    "#### Real is 1 while Fake is 0."
   ]
  },
  {
   "cell_type": "code",
   "execution_count": 279,
   "metadata": {},
   "outputs": [],
   "source": [
    "from sklearn.preprocessing import LabelEncoder\n",
    "\n",
    "enc = LabelEncoder()\n",
    "df_short['label'] = enc.fit_transform(df_short['label'])"
   ]
  },
  {
   "cell_type": "code",
   "execution_count": 280,
   "metadata": {
    "scrolled": true
   },
   "outputs": [
    {
     "data": {
      "text/html": [
       "<div>\n",
       "<style scoped>\n",
       "    .dataframe tbody tr th:only-of-type {\n",
       "        vertical-align: middle;\n",
       "    }\n",
       "\n",
       "    .dataframe tbody tr th {\n",
       "        vertical-align: top;\n",
       "    }\n",
       "\n",
       "    .dataframe thead th {\n",
       "        text-align: right;\n",
       "    }\n",
       "</style>\n",
       "<table border=\"1\" class=\"dataframe\">\n",
       "  <thead>\n",
       "    <tr style=\"text-align: right;\">\n",
       "      <th></th>\n",
       "      <th>text</th>\n",
       "      <th>label</th>\n",
       "    </tr>\n",
       "  </thead>\n",
       "  <tbody>\n",
       "    <tr>\n",
       "      <th>0</th>\n",
       "      <td>Says the Annies List political group supports ...</td>\n",
       "      <td>0</td>\n",
       "    </tr>\n",
       "    <tr>\n",
       "      <th>1</th>\n",
       "      <td>Hillary Clinton agrees with John McCain \"by vo...</td>\n",
       "      <td>1</td>\n",
       "    </tr>\n",
       "    <tr>\n",
       "      <th>2</th>\n",
       "      <td>Health care reform legislation is likely to ma...</td>\n",
       "      <td>0</td>\n",
       "    </tr>\n",
       "    <tr>\n",
       "      <th>3</th>\n",
       "      <td>The Chicago Bears have had more starting quart...</td>\n",
       "      <td>1</td>\n",
       "    </tr>\n",
       "    <tr>\n",
       "      <th>4</th>\n",
       "      <td>Says GOP primary opponents Glenn Grothman and ...</td>\n",
       "      <td>1</td>\n",
       "    </tr>\n",
       "  </tbody>\n",
       "</table>\n",
       "</div>"
      ],
      "text/plain": [
       "                                                text  label\n",
       "0  Says the Annies List political group supports ...      0\n",
       "1  Hillary Clinton agrees with John McCain \"by vo...      1\n",
       "2  Health care reform legislation is likely to ma...      0\n",
       "3  The Chicago Bears have had more starting quart...      1\n",
       "4  Says GOP primary opponents Glenn Grothman and ...      1"
      ]
     },
     "execution_count": 280,
     "metadata": {},
     "output_type": "execute_result"
    }
   ],
   "source": [
    "df_short.head()"
   ]
  },
  {
   "cell_type": "code",
   "execution_count": 281,
   "metadata": {},
   "outputs": [
    {
     "data": {
      "text/plain": [
       "'Says GOP primary opponents Glenn Grothman and Joe Leibham cast a compromise vote that cost $788 million in higher electricity costs.'"
      ]
     },
     "execution_count": 281,
     "metadata": {},
     "output_type": "execute_result"
    }
   ],
   "source": [
    "df_short.iloc[4]['text']"
   ]
  },
  {
   "cell_type": "code",
   "execution_count": 282,
   "metadata": {},
   "outputs": [
    {
     "data": {
      "text/plain": [
       "['Actually, @realDonaldTrump, he blocked a potentially unconstitutional executive order. This is how the judicial system work. Not by ranting.',\n",
       " \"See sense America and don't vote for that criminal Hillary Clinton #Election2016 #HillaryForPrison2016 #TrumpForPresident\",\n",
       " ' ',\n",
       " \"The first time he ever voted as a Democrat was here in Florida in 2008. He only voted four times in his life, and he's asking Floridians to come out and vote for him.\",\n",
       " \"'@AJEnglish That's awful!'\",\n",
       " 'Can you blame her for losing her cool with Crooked Lying Hillary? Share this with all of your  undecided  friends!https://youtu.be/CCkXOix0g2Y',\n",
       " \"'@KellyannePolls @TheCoffeeBean should do well as @realDonaldTrump supporters #BoycottStarbucks for CEO endorsing #CrookedHillary #MAGA'\",\n",
       " 'Well, well, well  The Democrats are delusional with their wish for any scandal in the Trump administration Late today, President Trump reaffirmed his total support for Sessions. ',\n",
       " 'U.S. House opponent Paul Ryan supports cutting funding for veterans by 24 percent.',\n",
       " \"Mayor Rudy Giuliani said he believes @realDonaldTrump is going to win 'by 2 states' b/c Americans are tired of corr… https://t.co/MHrCXrxCS0\"]"
      ]
     },
     "execution_count": 282,
     "metadata": {},
     "output_type": "execute_result"
    }
   ],
   "source": [
    "df_short.text.sample(10, random_state=1).to_list()"
   ]
  },
  {
   "cell_type": "markdown",
   "metadata": {},
   "source": [
    "## Data Cleaning\n",
    "\n",
    "1. Removed URLs\n",
    "2. Removed User Mentions\n",
    "3. Removed all numbers\n",
    "4. Removed punctuations and extra spaces"
   ]
  },
  {
   "cell_type": "code",
   "execution_count": 283,
   "metadata": {},
   "outputs": [],
   "source": [
    "import string\n",
    "import re\n",
    "\n",
    "df_short['text'] = df_short['text'].apply(lambda x:re.sub(r'http\\S+', '', x))\n",
    "df_short['text'] = df_short['text'].apply(lambda x:re.sub(r'@\\S+ ', '', x))\n",
    "df_short['text'] = df_short['text'].apply(lambda x:''.join(i for i in x if not i.isdigit()))\n",
    "table = str.maketrans(string.punctuation, ' '*len(string.punctuation))\n",
    "df_short['text'] = df_short['text'].str.translate(table)\n",
    "df_short['text'] = df_short['text'].str.replace(' +', ' ')\n",
    "df_short['text'] = df_short['text'].str.lower()\n",
    "df_short['text'] = df_short['text'].str.strip()"
   ]
  },
  {
   "cell_type": "code",
   "execution_count": 284,
   "metadata": {
    "scrolled": true
   },
   "outputs": [
    {
     "data": {
      "text/plain": [
       "['actually he blocked a potentially unconstitutional executive order this is how the judicial system work not by ranting',\n",
       " 'see sense america and don t vote for that criminal hillary clinton election hillaryforprison trumpforpresident',\n",
       " '',\n",
       " 'the first time he ever voted as a democrat was here in florida in he only voted four times in his life and he s asking floridians to come out and vote for him',\n",
       " 'that s awful',\n",
       " 'can you blame her for losing her cool with crooked lying hillary share this with all of your undecided friends',\n",
       " 'should do well as supporters boycottstarbucks for ceo endorsing crookedhillary maga',\n",
       " 'well well well the democrats are delusional with their wish for any scandal in the trump administration late today president trump reaffirmed his total support for sessions',\n",
       " 'u s house opponent paul ryan supports cutting funding for veterans by percent',\n",
       " 'mayor rudy giuliani said he believes is going to win by states b c americans are tired of corr…']"
      ]
     },
     "execution_count": 284,
     "metadata": {},
     "output_type": "execute_result"
    }
   ],
   "source": [
    "df_short.text.sample(10, random_state=1).to_list()"
   ]
  },
  {
   "cell_type": "markdown",
   "metadata": {},
   "source": [
    "### Doubts\n",
    "* keep only english tweets? translate the non-eng ones to eng?"
   ]
  },
  {
   "cell_type": "code",
   "execution_count": 285,
   "metadata": {},
   "outputs": [],
   "source": [
    "#Train test split\n",
    "from sklearn.model_selection import train_test_split\n",
    "\n",
    "X = df_short.text\n",
    "y = df_short.label\n",
    "\n",
    "X_train, X_test, y_train, y_test = train_test_split(X, y, test_size=0.20, random_state=1, stratify=y)"
   ]
  },
  {
   "cell_type": "code",
   "execution_count": 286,
   "metadata": {
    "scrolled": true
   },
   "outputs": [],
   "source": [
    "df_short_train = pd.concat([X_train, y_train], axis=1)\n",
    "df_short_test = pd.concat([X_test, y_test], axis=1)"
   ]
  },
  {
   "cell_type": "code",
   "execution_count": 287,
   "metadata": {
    "scrolled": true
   },
   "outputs": [],
   "source": [
    "# df_short_test = df_short[~df_short.index.isin(df_short_train.index)][df_short.label==1]\n",
    "# df_short_test = pd.concat([df_short_test, df_short[~df_short.index.isin(df_short_train.index)][df_short.label==0].sample(n = df_short_test.shape[0], random_state=1)])"
   ]
  },
  {
   "cell_type": "code",
   "execution_count": 288,
   "metadata": {},
   "outputs": [
    {
     "name": "stdout",
     "output_type": "stream",
     "text": [
      "55\n",
      "0\n"
     ]
    }
   ],
   "source": [
    "lengths = [len(df_short_train.iloc[i]['text'].split()) for i in range(len(df_short_train))]\n",
    "print(max(lengths))\n",
    "print(min(lengths))"
   ]
  },
  {
   "cell_type": "code",
   "execution_count": 289,
   "metadata": {},
   "outputs": [
    {
     "data": {
      "text/plain": [
       "(array([2516., 6155., 8189., 4817., 2730.,  836.,  477.,  241.,  119.,\n",
       "          20.]),\n",
       " array([ 0. ,  5.5, 11. , 16.5, 22. , 27.5, 33. , 38.5, 44. , 49.5, 55. ]),\n",
       " <a list of 10 Patch objects>)"
      ]
     },
     "execution_count": 289,
     "metadata": {},
     "output_type": "execute_result"
    },
    {
     "data": {
      "image/png": "[encoded data removed]",
      "text/plain": [
       "<Figure size 432x288 with 1 Axes>"
      ]
     },
     "metadata": {
      "needs_background": "light"
     },
     "output_type": "display_data"
    }
   ],
   "source": [
    "import matplotlib.pyplot as plt\n",
    "\n",
    "plt.hist(lengths)"
   ]
  },
  {
   "cell_type": "code",
   "execution_count": 290,
   "metadata": {},
   "outputs": [
    {
     "data": {
      "text/plain": [
       "14.0"
      ]
     },
     "execution_count": 290,
     "metadata": {},
     "output_type": "execute_result"
    }
   ],
   "source": [
    "import numpy as np\n",
    "np.median(lengths)"
   ]
  },
  {
   "cell_type": "code",
   "execution_count": 291,
   "metadata": {},
   "outputs": [],
   "source": [
    "df_short_train = df_short_train[[l > 0 for l in lengths]]"
   ]
  },
  {
   "cell_type": "code",
   "execution_count": 292,
   "metadata": {},
   "outputs": [
    {
     "data": {
      "text/plain": [
       "(25336, 2)"
      ]
     },
     "execution_count": 292,
     "metadata": {},
     "output_type": "execute_result"
    }
   ],
   "source": [
    "df_short_train.shape"
   ]
  },
  {
   "cell_type": "code",
   "execution_count": 293,
   "metadata": {},
   "outputs": [
    {
     "data": {
      "text/html": [
       "<div>\n",
       "<style scoped>\n",
       "    .dataframe tbody tr th:only-of-type {\n",
       "        vertical-align: middle;\n",
       "    }\n",
       "\n",
       "    .dataframe tbody tr th {\n",
       "        vertical-align: top;\n",
       "    }\n",
       "\n",
       "    .dataframe thead th {\n",
       "        text-align: right;\n",
       "    }\n",
       "</style>\n",
       "<table border=\"1\" class=\"dataframe\">\n",
       "  <thead>\n",
       "    <tr style=\"text-align: right;\">\n",
       "      <th></th>\n",
       "      <th>label</th>\n",
       "    </tr>\n",
       "  </thead>\n",
       "  <tbody>\n",
       "    <tr>\n",
       "      <th>0</th>\n",
       "      <td>21390</td>\n",
       "    </tr>\n",
       "    <tr>\n",
       "      <th>1</th>\n",
       "      <td>3946</td>\n",
       "    </tr>\n",
       "  </tbody>\n",
       "</table>\n",
       "</div>"
      ],
      "text/plain": [
       "   label\n",
       "0  21390\n",
       "1   3946"
      ]
     },
     "execution_count": 293,
     "metadata": {},
     "output_type": "execute_result"
    }
   ],
   "source": [
    "pd.DataFrame(df_short_train['label'].value_counts())"
   ]
  },
  {
   "cell_type": "markdown",
   "metadata": {},
   "source": [
    "We then save the preprocessed dataset, and another one corresponding to a 10% sample."
   ]
  },
  {
   "cell_type": "code",
   "execution_count": 294,
   "metadata": {},
   "outputs": [
    {
     "data": {
      "text/plain": [
       "text     0\n",
       "label    0\n",
       "dtype: int64"
      ]
     },
     "execution_count": 294,
     "metadata": {},
     "output_type": "execute_result"
    }
   ],
   "source": [
    "df_short_train.isnull().sum()"
   ]
  },
  {
   "cell_type": "code",
   "execution_count": 295,
   "metadata": {},
   "outputs": [],
   "source": [
    "df_short_train.to_csv('short_text_preprocessed_train.csv', index=False)\n",
    "df_short_test.to_csv('short_text_preprocessed_test.csv', index=False)"
   ]
  },
  {
   "cell_type": "code",
   "execution_count": 296,
   "metadata": {},
   "outputs": [
    {
     "data": {
      "text/plain": [
       "(25336, 2)"
      ]
     },
     "execution_count": 296,
     "metadata": {},
     "output_type": "execute_result"
    }
   ],
   "source": [
    "df_short_train.shape"
   ]
  },
  {
   "cell_type": "code",
   "execution_count": 297,
   "metadata": {},
   "outputs": [],
   "source": [
    "# df_short.sample(n=int(len(df_short)*0.1), random_state=111).to_csv('short_text_sampled.csv', index=False)"
   ]
  },
  {
   "cell_type": "markdown",
   "metadata": {},
   "source": [
    "## Working with long texts"
   ]
  },
  {
   "cell_type": "code",
   "execution_count": 298,
   "metadata": {},
   "outputs": [
    {
     "data": {
      "text/html": [
       "<div>\n",
       "<style scoped>\n",
       "    .dataframe tbody tr th:only-of-type {\n",
       "        vertical-align: middle;\n",
       "    }\n",
       "\n",
       "    .dataframe tbody tr th {\n",
       "        vertical-align: top;\n",
       "    }\n",
       "\n",
       "    .dataframe thead th {\n",
       "        text-align: right;\n",
       "    }\n",
       "</style>\n",
       "<table border=\"1\" class=\"dataframe\">\n",
       "  <thead>\n",
       "    <tr style=\"text-align: right;\">\n",
       "      <th></th>\n",
       "      <th>text</th>\n",
       "      <th>label</th>\n",
       "    </tr>\n",
       "  </thead>\n",
       "  <tbody>\n",
       "    <tr>\n",
       "      <th>261</th>\n",
       "      <td>Right now one of our highest job growth sector...</td>\n",
       "      <td>Real</td>\n",
       "    </tr>\n",
       "    <tr>\n",
       "      <th>1914</th>\n",
       "      <td>In 1790, the first Congress, which was packed ...</td>\n",
       "      <td>Real</td>\n",
       "    </tr>\n",
       "    <tr>\n",
       "      <th>2722</th>\n",
       "      <td>Let's pay attention to kids who are not going ...</td>\n",
       "      <td>Real</td>\n",
       "    </tr>\n",
       "    <tr>\n",
       "      <th>3233</th>\n",
       "      <td>He (Obama) has done several things well. Most ...</td>\n",
       "      <td>Fake</td>\n",
       "    </tr>\n",
       "    <tr>\n",
       "      <th>3307</th>\n",
       "      <td>Under Republican Chris Christie, New Jersey ha...</td>\n",
       "      <td>Real</td>\n",
       "    </tr>\n",
       "  </tbody>\n",
       "</table>\n",
       "</div>"
      ],
      "text/plain": [
       "                                                   text label\n",
       "261   Right now one of our highest job growth sector...  Real\n",
       "1914  In 1790, the first Congress, which was packed ...  Real\n",
       "2722  Let's pay attention to kids who are not going ...  Real\n",
       "3233  He (Obama) has done several things well. Most ...  Fake\n",
       "3307  Under Republican Chris Christie, New Jersey ha...  Real"
      ]
     },
     "execution_count": 298,
     "metadata": {},
     "output_type": "execute_result"
    }
   ],
   "source": [
    "df_long.head()"
   ]
  },
  {
   "cell_type": "code",
   "execution_count": 299,
   "metadata": {},
   "outputs": [],
   "source": [
    "enc = LabelEncoder()\n",
    "df_long['label'] = enc.fit_transform(df_long['label'])"
   ]
  },
  {
   "cell_type": "code",
   "execution_count": 300,
   "metadata": {},
   "outputs": [
    {
     "data": {
      "text/html": [
       "<div>\n",
       "<style scoped>\n",
       "    .dataframe tbody tr th:only-of-type {\n",
       "        vertical-align: middle;\n",
       "    }\n",
       "\n",
       "    .dataframe tbody tr th {\n",
       "        vertical-align: top;\n",
       "    }\n",
       "\n",
       "    .dataframe thead th {\n",
       "        text-align: right;\n",
       "    }\n",
       "</style>\n",
       "<table border=\"1\" class=\"dataframe\">\n",
       "  <thead>\n",
       "    <tr style=\"text-align: right;\">\n",
       "      <th></th>\n",
       "      <th>text</th>\n",
       "      <th>label</th>\n",
       "    </tr>\n",
       "  </thead>\n",
       "  <tbody>\n",
       "    <tr>\n",
       "      <th>261</th>\n",
       "      <td>Right now one of our highest job growth sector...</td>\n",
       "      <td>1</td>\n",
       "    </tr>\n",
       "    <tr>\n",
       "      <th>1914</th>\n",
       "      <td>In 1790, the first Congress, which was packed ...</td>\n",
       "      <td>1</td>\n",
       "    </tr>\n",
       "    <tr>\n",
       "      <th>2722</th>\n",
       "      <td>Let's pay attention to kids who are not going ...</td>\n",
       "      <td>1</td>\n",
       "    </tr>\n",
       "    <tr>\n",
       "      <th>3233</th>\n",
       "      <td>He (Obama) has done several things well. Most ...</td>\n",
       "      <td>0</td>\n",
       "    </tr>\n",
       "    <tr>\n",
       "      <th>3307</th>\n",
       "      <td>Under Republican Chris Christie, New Jersey ha...</td>\n",
       "      <td>1</td>\n",
       "    </tr>\n",
       "  </tbody>\n",
       "</table>\n",
       "</div>"
      ],
      "text/plain": [
       "                                                   text  label\n",
       "261   Right now one of our highest job growth sector...      1\n",
       "1914  In 1790, the first Congress, which was packed ...      1\n",
       "2722  Let's pay attention to kids who are not going ...      1\n",
       "3233  He (Obama) has done several things well. Most ...      0\n",
       "3307  Under Republican Chris Christie, New Jersey ha...      1"
      ]
     },
     "execution_count": 300,
     "metadata": {},
     "output_type": "execute_result"
    }
   ],
   "source": [
    "df_long.head()"
   ]
  },
  {
   "cell_type": "code",
   "execution_count": 301,
   "metadata": {
    "scrolled": false
   },
   "outputs": [
    {
     "data": {
      "text/plain": [
       "['WASHINGTON  —   “Busy day planned in New York,”   Donald J. Trump said on Twitter on Friday morning, two days after his astonishing victory. “Will soon be making some very important decisions on the people who will be running our government!” If anything, that understates the gravity of the personnel choices Mr. Trump and his transition team are weighing. Rarely in the history of the American presidency has the exercise of choosing people to fill jobs had such a   impact on the nature and priorities of an incoming administration. Unlike most new presidents, Mr. Trump comes into office with no   experience, no coherent political agenda and no bulging binder of policy proposals. And he has left a trail of inflammatory, often contradictory, statements on issues from immigration and race to terrorism and geopolitics. In such a chaotic environment, serving a president who is in many ways a tabula rasa, the appointees to key White House jobs like chief of staff and cabinet posts like secretary of state, defense secretary and Treasury secretary could wield outsize influence. Their selection will help determine whether the Trump administration governs like the firebrand Mr. Trump was on the campaign trail or the pragmatist he often appears to be behind closed doors. “A new president is really vulnerable and open to all sorts of influence by   advisers,” said Robert Dallek, a presidential historian. “Trump’s appointments over the next six weeks will be very significant because they can show whether he wants to create some unity in the country, or whether he really intends to deliver on his ideas. ” One of the influences on Mr. Trump could come from an unlikely quarter: President Obama. Meeting in the Oval Office on Thursday, Mr. Trump said he looked forward “to dealing with the president in the future, including counsel. ” A day later, in interviews with The Wall Street Journal and “60 Minutes,’’ he said he had decided to retain elements of Mr. Obama’s landmark health care law after their conversation  —   a hint, at least, that he might govern less radically than he had campaigned. White House officials expressed hope that Mr. Obama would be able to impress on Mr. Trump the importance of other parts of his legacy, like the Paris climate accord and the Iran nuclear deal. The two will have the kind of    relationship that only fellow presidents can have  —   something that administration officials hope will appeal to Mr. Trump’s pride, as well as his desire to succeed, and make him view Mr. Obama less as a rival. They conceded, though, that there was little historical precedent for such a relationship, especially when the incoming president had ousted the incumbent’s party after such an acrid campaign, and that Mr. Trump and Mr. Obama were never likely to become buddies. Mr. Trump is drawing mainly from a pool of trusted aides and supporters, according to people familiar with the campaign. On Friday, he named three of his grown children  —   Ivanka, Donald Jr. and Eric  —   as well as his    Jared Kushner, to his transition team, an arrangement that rang alarm bells in Washington because they will also manage his businesses. The Trump family, it is clear, will wield unusual power in the composition of an administration that is already shaping up as remarkable for its clannishness. Even within Mr. Trump’s tight circle, however, there are sharp differences in ideology, background and temperament that could play out in how the White House deals with Congress and how the United States deals with the rest of the world. Perhaps the deepest schism is between Stephen K. Bannon, the conservative provocateur and media entrepreneur who was Mr. Trump’s campaign chairman, and Reince Priebus, the Republican Party chairman who came to terms with Mr. Trump’s candidacy. Both are on a short list for chief of staff, according to people close to the campaign, and whoever is chosen, the other is likely to get another senior White House post. Each would bring a radically different approach to a job often called the   powerful in Washington  —   gatekeeper to the president and often the first and last person he sees in the Oval Office. Mr. Bannon, the executive chairman of the conservative website Breitbart News and onetime Goldman Sachs executive, is an avowed enemy of House Speaker Paul D. Ryan. An   verbal bomb thrower with ties to the   movement, Mr. Bannon may have little interest in compromising with the   Congress under its current leadership. He is an unabashed critic of the current immigration system and repeatedly encouraged Mr. Trump to appeal to the party’s base in the closing days of the campaign with arguments against globalization. Mr. Priebus, a party loyalist who tried to reconcile Republican leaders with their renegade nominee, would most likely build bridges to Mr. Ryan and other Republican leaders. A Washington insider with a reputation for being easy to work with, Mr. Priebus would operate a more traditional White House, though given Mr. Trump’s flamboyant personality, traditional is a relative term. In some ways, Mr. Bannon and Mr. Priebus are proxies for the larger battle over what kind of president Mr. Trump will be. Some former Republican officials held out hope that Mr. Trump would be receptive to moderating influences, but others worried that he would simply listen to the last person he spoke to. “You always have that tension between what he said to get elected and what he actually believes,” said John D. Negroponte, a former director of national intelligence under President George W. Bush. “How selective will his amnesia be?” Mr. Negroponte, a Republican who supported Hillary Clinton in the campaign, said he could imagine senior members of Mr. Trump’s National Security Council warning him about the dangers of “cutting loose countries from our nuclear umbrella,” which Mr. Trump threatened during the campaign to do in reference to Japan and South Korea. But there could be a parallel battle for Mr. Trump’s soul in foreign policy. Lt. Gen. Michael T. Flynn, a retired career intelligence officer who is Mr. Trump’s closest   adviser, is a candidate for national security adviser, according to an internal transition document obtained by the conservative news site The Daily Caller, as is Stephen J. Hadley, who served in that capacity for Mr. Bush. Mr. Hadley, who might also be considered for defense secretary, pushed Mr. Bush to undertake the troop surge in Iraq and is closely identified with the military interventionism of that administration. A key figure in the Republican   establishment, Mr. Hadley had a hand in Mr. Bush’s second inaugural address, in which he called for the United States to be an evangelist in spreading democracy  —   something Mr. Trump has flatly rejected. General Flynn, a registered Democrat, has criticized the neoconservative policies of the Bush administration for leading the United States into quagmires like Iraq. “They’ve gotten us into mess after mess for the wrong reasons,” he said, echoing Mr. Trump’s harsh criticism of Mr. Bush during the Republican debates. And like Mr. Trump, General Flynn is withering about the   establishment of both parties. It may seem counterintuitive for Mr. Trump to recruit a Bush administration veteran. But Peter D. Feaver, who worked on President Bush’s national security council and now teaches at Duke University, pointed out that Mr. Obama had campaigned “vociferously against the Iraq surge, and then asked the architect of the surge”  —   Robert M. Gates  —   “to stay. ” Mr. Gates, as defense secretary, later persuaded Mr. Obama to deploy a similar surge in Afghanistan. “You can say one thing in campaigns, and mean it,” Mr. Feaver said, “and in personnel matters, do the opposite. ” The contest for top economic posts does not expose the same ideological fault lines as those for the White House or national security jobs. But it does raise red flags, given the     Street sentiment that Mr. Trump stoked during the campaign. Several of the candidates on his short list for Treasury secretary come from Wall Street, including Steven Mnuchin, a former Goldman Sachs partner who was the finance chairman of Mr. Trump’s campaign, and Jamie Dimon, the chief executive of JPMorgan Chase. People close to Mr. Dimon said he was not interested in the job. Another candidate is a conservative Texas congressman, Jeb Hensarling, who has called for the repeal the   Act, the banking regulations passed after the financial crisis, during Mr. Obama’s first term. The least predictable source of influence on Mr. Trump remains Mr. Obama. For all their differences, and the bitter words they flung at each other during the campaign, the two share traits. Both won the presidency as outsiders, and both hold their party’s   establishment in contempt. With Mr. Trump lacking   experience or the political coterie that accompanies establishment candidates to Washington, administration officials said Mr. Obama would probably spend more time with him than was typical for other incoming and outgoing presidents. And Mr. Trump, some outsiders predicted, would respect the advice of a president 15 years younger, whose path to the White House was nearly as improbable as his. “If you’re looking at things from a hiring point of view, as Trump does, Obama could have done anything he wanted,” Douglas Brinkley, a professor of history at Rice University, said in reference to Mr. Obama’s career options. “That has to impress Trump. ”']"
      ]
     },
     "execution_count": 301,
     "metadata": {},
     "output_type": "execute_result"
    }
   ],
   "source": [
    "df_long.text.sample(1, random_state=1).to_list()"
   ]
  },
  {
   "cell_type": "code",
   "execution_count": 302,
   "metadata": {},
   "outputs": [],
   "source": [
    "df_long['text'] = df_long['text'].apply(lambda x:re.sub(r'http\\S+', '', x))\n",
    "df_long['text'] = df_long['text'].apply(lambda x:re.sub(r'@\\S+ ', '', x))\n",
    "df_long['text'] = df_long['text'].apply(lambda x:''.join(i for i in x if not i.isdigit()))\n",
    "table = str.maketrans(string.punctuation, ' '*len(string.punctuation))\n",
    "df_long['text'] = df_long['text'].str.translate(table)\n",
    "df_long['text'] = df_long['text'].str.replace(' +', ' ')\n",
    "df_long['text'] = df_long['text'].str.lower()\n",
    "df_long['text'] = df_long['text'].str.strip()"
   ]
  },
  {
   "cell_type": "code",
   "execution_count": 303,
   "metadata": {},
   "outputs": [
    {
     "data": {
      "text/plain": [
       "['washington — “busy day planned in new york ” donald j trump said on twitter on friday morning two days after his astonishing victory “will soon be making some very important decisions on the people who will be running our government ” if anything that understates the gravity of the personnel choices mr trump and his transition team are weighing rarely in the history of the american presidency has the exercise of choosing people to fill jobs had such a impact on the nature and priorities of an incoming administration unlike most new presidents mr trump comes into office with no experience no coherent political agenda and no bulging binder of policy proposals and he has left a trail of inflammatory often contradictory statements on issues from immigration and race to terrorism and geopolitics in such a chaotic environment serving a president who is in many ways a tabula rasa the appointees to key white house jobs like chief of staff and cabinet posts like secretary of state defense secretary and treasury secretary could wield outsize influence their selection will help determine whether the trump administration governs like the firebrand mr trump was on the campaign trail or the pragmatist he often appears to be behind closed doors “a new president is really vulnerable and open to all sorts of influence by advisers ” said robert dallek a presidential historian “trump’s appointments over the next six weeks will be very significant because they can show whether he wants to create some unity in the country or whether he really intends to deliver on his ideas ” one of the influences on mr trump could come from an unlikely quarter president obama meeting in the oval office on thursday mr trump said he looked forward “to dealing with the president in the future including counsel ” a day later in interviews with the wall street journal and “ minutes ’’ he said he had decided to retain elements of mr obama’s landmark health care law after their conversation — a hint at least that he might govern less radically than he had campaigned white house officials expressed hope that mr obama would be able to impress on mr trump the importance of other parts of his legacy like the paris climate accord and the iran nuclear deal the two will have the kind of relationship that only fellow presidents can have — something that administration officials hope will appeal to mr trump’s pride as well as his desire to succeed and make him view mr obama less as a rival they conceded though that there was little historical precedent for such a relationship especially when the incoming president had ousted the incumbent’s party after such an acrid campaign and that mr trump and mr obama were never likely to become buddies mr trump is drawing mainly from a pool of trusted aides and supporters according to people familiar with the campaign on friday he named three of his grown children — ivanka donald jr and eric — as well as his jared kushner to his transition team an arrangement that rang alarm bells in washington because they will also manage his businesses the trump family it is clear will wield unusual power in the composition of an administration that is already shaping up as remarkable for its clannishness even within mr trump’s tight circle however there are sharp differences in ideology background and temperament that could play out in how the white house deals with congress and how the united states deals with the rest of the world perhaps the deepest schism is between stephen k bannon the conservative provocateur and media entrepreneur who was mr trump’s campaign chairman and reince priebus the republican party chairman who came to terms with mr trump’s candidacy both are on a short list for chief of staff according to people close to the campaign and whoever is chosen the other is likely to get another senior white house post each would bring a radically different approach to a job often called the powerful in washington — gatekeeper to the president and often the first and last person he sees in the oval office mr bannon the executive chairman of the conservative website breitbart news and onetime goldman sachs executive is an avowed enemy of house speaker paul d ryan an verbal bomb thrower with ties to the movement mr bannon may have little interest in compromising with the congress under its current leadership he is an unabashed critic of the current immigration system and repeatedly encouraged mr trump to appeal to the party’s base in the closing days of the campaign with arguments against globalization mr priebus a party loyalist who tried to reconcile republican leaders with their renegade nominee would most likely build bridges to mr ryan and other republican leaders a washington insider with a reputation for being easy to work with mr priebus would operate a more traditional white house though given mr trump’s flamboyant personality traditional is a relative term in some ways mr bannon and mr priebus are proxies for the larger battle over what kind of president mr trump will be some former republican officials held out hope that mr trump would be receptive to moderating influences but others worried that he would simply listen to the last person he spoke to “you always have that tension between what he said to get elected and what he actually believes ” said john d negroponte a former director of national intelligence under president george w bush “how selective will his amnesia be ” mr negroponte a republican who supported hillary clinton in the campaign said he could imagine senior members of mr trump’s national security council warning him about the dangers of “cutting loose countries from our nuclear umbrella ” which mr trump threatened during the campaign to do in reference to japan and south korea but there could be a parallel battle for mr trump’s soul in foreign policy lt gen michael t flynn a retired career intelligence officer who is mr trump’s closest adviser is a candidate for national security adviser according to an internal transition document obtained by the conservative news site the daily caller as is stephen j hadley who served in that capacity for mr bush mr hadley who might also be considered for defense secretary pushed mr bush to undertake the troop surge in iraq and is closely identified with the military interventionism of that administration a key figure in the republican establishment mr hadley had a hand in mr bush’s second inaugural address in which he called for the united states to be an evangelist in spreading democracy — something mr trump has flatly rejected general flynn a registered democrat has criticized the neoconservative policies of the bush administration for leading the united states into quagmires like iraq “they’ve gotten us into mess after mess for the wrong reasons ” he said echoing mr trump’s harsh criticism of mr bush during the republican debates and like mr trump general flynn is withering about the establishment of both parties it may seem counterintuitive for mr trump to recruit a bush administration veteran but peter d feaver who worked on president bush’s national security council and now teaches at duke university pointed out that mr obama had campaigned “vociferously against the iraq surge and then asked the architect of the surge” — robert m gates — “to stay ” mr gates as defense secretary later persuaded mr obama to deploy a similar surge in afghanistan “you can say one thing in campaigns and mean it ” mr feaver said “and in personnel matters do the opposite ” the contest for top economic posts does not expose the same ideological fault lines as those for the white house or national security jobs but it does raise red flags given the street sentiment that mr trump stoked during the campaign several of the candidates on his short list for treasury secretary come from wall street including steven mnuchin a former goldman sachs partner who was the finance chairman of mr trump’s campaign and jamie dimon the chief executive of jpmorgan chase people close to mr dimon said he was not interested in the job another candidate is a conservative texas congressman jeb hensarling who has called for the repeal the act the banking regulations passed after the financial crisis during mr obama’s first term the least predictable source of influence on mr trump remains mr obama for all their differences and the bitter words they flung at each other during the campaign the two share traits both won the presidency as outsiders and both hold their party’s establishment in contempt with mr trump lacking experience or the political coterie that accompanies establishment candidates to washington administration officials said mr obama would probably spend more time with him than was typical for other incoming and outgoing presidents and mr trump some outsiders predicted would respect the advice of a president years younger whose path to the white house was nearly as improbable as his “if you’re looking at things from a hiring point of view as trump does obama could have done anything he wanted ” douglas brinkley a professor of history at rice university said in reference to mr obama’s career options “that has to impress trump ”']"
      ]
     },
     "execution_count": 303,
     "metadata": {},
     "output_type": "execute_result"
    }
   ],
   "source": [
    "df_long.text.sample(1, random_state=1).to_list()"
   ]
  },
  {
   "cell_type": "code",
   "execution_count": 304,
   "metadata": {},
   "outputs": [
    {
     "name": "stderr",
     "output_type": "stream",
     "text": [
      "C:\\Users\\pmahankal.HIREZCORP\\Anaconda3\\lib\\site-packages\\ipykernel_launcher.py:6: UserWarning: Boolean Series key will be reindexed to match DataFrame index.\n",
      "  \n",
      "C:\\Users\\pmahankal.HIREZCORP\\Anaconda3\\lib\\site-packages\\ipykernel_launcher.py:7: UserWarning: Boolean Series key will be reindexed to match DataFrame index.\n",
      "  import sys\n"
     ]
    }
   ],
   "source": [
    "#Train test split\n",
    "\n",
    "X = df_long.text\n",
    "y = df_long.label\n",
    "\n",
    "X_train, X_test, y_train, y_test = train_test_split(X, y, test_size=0.20, random_state=1, stratify=y)\n",
    "\n",
    "df_long_train = pd.concat([X_train, y_train], axis=1)\n",
    "df_long_test = pd.concat([X_test, y_test], axis=1)"
   ]
  },
  {
   "cell_type": "code",
   "execution_count": 305,
   "metadata": {},
   "outputs": [
    {
     "name": "stdout",
     "output_type": "stream",
     "text": [
      "24092\n",
      "5\n"
     ]
    }
   ],
   "source": [
    "lengths = [len(df_long_train.iloc[i]['text'].split()) for i in range(len(df_long_train))]\n",
    "print(max(lengths))\n",
    "print(min(lengths))"
   ]
  },
  {
   "cell_type": "code",
   "execution_count": 306,
   "metadata": {
    "scrolled": false
   },
   "outputs": [
    {
     "data": {
      "text/plain": [
       "(array([3.3405e+04, 1.3566e+04, 4.2420e+03, 1.0930e+03, 3.4500e+02,\n",
       "        1.9800e+02, 1.1300e+02, 7.6000e+01, 8.8000e+01, 3.2000e+01]),\n",
       " array([   5. ,  502.7, 1000.4, 1498.1, 1995.8, 2493.5, 2991.2, 3488.9,\n",
       "        3986.6, 4484.3, 4982. ]),\n",
       " <a list of 10 Patch objects>)"
      ]
     },
     "execution_count": 306,
     "metadata": {},
     "output_type": "execute_result"
    },
    {
     "data": {
      "image/png": "[encoded data removed]",
      "text/plain": [
       "<Figure size 432x288 with 1 Axes>"
      ]
     },
     "metadata": {
      "needs_background": "light"
     },
     "output_type": "display_data"
    }
   ],
   "source": [
    "plt.hist([l for l in lengths if l<5000])"
   ]
  },
  {
   "cell_type": "code",
   "execution_count": 307,
   "metadata": {},
   "outputs": [
    {
     "data": {
      "text/plain": [
       "407.0"
      ]
     },
     "execution_count": 307,
     "metadata": {},
     "output_type": "execute_result"
    }
   ],
   "source": [
    "np.median(lengths)"
   ]
  },
  {
   "cell_type": "code",
   "execution_count": 308,
   "metadata": {},
   "outputs": [
    {
     "data": {
      "text/plain": [
       "(53268, 2)"
      ]
     },
     "execution_count": 308,
     "metadata": {},
     "output_type": "execute_result"
    }
   ],
   "source": [
    "df_long_train.shape"
   ]
  },
  {
   "cell_type": "code",
   "execution_count": 309,
   "metadata": {},
   "outputs": [],
   "source": [
    "df_long_train = df_long_train[[l < 1000 for l in lengths]]"
   ]
  },
  {
   "cell_type": "code",
   "execution_count": 310,
   "metadata": {},
   "outputs": [
    {
     "data": {
      "text/plain": [
       "(46962, 2)"
      ]
     },
     "execution_count": 310,
     "metadata": {},
     "output_type": "execute_result"
    }
   ],
   "source": [
    "df_long_train.shape"
   ]
  },
  {
   "cell_type": "code",
   "execution_count": 311,
   "metadata": {},
   "outputs": [
    {
     "data": {
      "text/plain": [
       "0    24033\n",
       "1    22929\n",
       "Name: label, dtype: int64"
      ]
     },
     "execution_count": 311,
     "metadata": {},
     "output_type": "execute_result"
    }
   ],
   "source": [
    "df_long_train.label.value_counts()"
   ]
  },
  {
   "cell_type": "code",
   "execution_count": 312,
   "metadata": {},
   "outputs": [],
   "source": [
    "df_long_train.to_csv('long_text_preprocessed_train.csv', index=False)\n",
    "df_long_test.to_csv('long_text_preprocessed_test.csv', index=False)"
   ]
  },
  {
   "cell_type": "code",
   "execution_count": null,
   "metadata": {},
   "outputs": [],
   "source": []
  },
  {
   "cell_type": "code",
   "execution_count": 4,
   "metadata": {},
   "outputs": [],
   "source": [
    "import pandas as pd"
   ]
  },
  {
   "cell_type": "code",
   "execution_count": 5,
   "metadata": {},
   "outputs": [
    {
     "name": "stdout",
     "output_type": "stream",
     "text": [
      "Working on category: ClaimFakeCOVID-19_tweets\n",
      "Saving it to filename: politifact_fake.csv\n",
      "Working on category: ClaimRealCOVID-19_tweets\n",
      "Saving it to filename: politifact_real.csv\n",
      "Working on category: NewsFakeCOVID-19_tweets\n",
      "Saving it to filename: gossipcop_fake.csv\n",
      "Working on category: NewsRealCOVID-19_tweets\n",
      "Saving it to filename: gossipcop_real.csv\n"
     ]
    }
   ],
   "source": [
    "categories = ['ClaimFakeCOVID-19_tweets', 'ClaimRealCOVID-19_tweets', 'NewsFakeCOVID-19_tweets', 'NewsRealCOVID-19_tweets']\n",
    "filenames = ['politifact_fake', 'politifact_real', 'gossipcop_fake', 'gossipcop_real']\n",
    "\n",
    "for category, filename in zip(categories, filenames):\n",
    "    print(\"Working on category:\", category)\n",
    "    tweet_ids = []\n",
    "    for i, year in enumerate(['05-01-2020', '07-01-2020', '09-01-2020', '11-01-2020']):\n",
    "        if category+'.csv' in os.listdir(f'../CoAID/{year}'):\n",
    "            df = pd.read_csv(f'../CoAID/{year}/{category}.csv')\n",
    "            tweet_ids.extend(df.tweet_id.to_list())\n",
    "\n",
    "    final = pd.DataFrame({'id':[category], 'news_url':[''], 'title':[''], 'tweet_ids':'\\t'.join(map(str, tweet_ids))})\n",
    "    print(\"Saving it to filename: {}.csv\".format(filename))\n",
    "    final.to_csv(f'../CoAID/{filename}.csv', index=False)"
   ]
  },
  {
   "cell_type": "code",
   "execution_count": 6,
   "metadata": {},
   "outputs": [
    {
     "name": "stdout",
     "output_type": "stream",
     "text": [
      "..\\FakeNewsNet\\code\\fakenewsnet_dataset\\gossipcop\\real\\NewsRealCOVID-19_tweets\\tweets\\\n",
      "123611\n",
      "Counts for real and fake tweets: (122714, 0)\n",
      "..\\FakeNewsNet\\code\\fakenewsnet_dataset\\politifact\\real\\ClaimRealCOVID-19_tweets\\tweets\\\n",
      "6683\n",
      "Counts for real and fake tweets: (129303, 0)\n",
      "..\\FakeNewsNet\\code\\fakenewsnet_dataset\\gossipcop\\fake\\NewsFakeCOVID-19_tweets\\tweets\\\n",
      "7161\n",
      "Counts for real and fake tweets: (129303, 7118)\n",
      "..\\FakeNewsNet\\code\\fakenewsnet_dataset\\politifact\\fake\\ClaimFakeCOVID-19_tweets\\tweets\\\n",
      "394\n",
      "Counts for real and fake tweets: (129303, 7512)\n"
     ]
    }
   ],
   "source": [
    "import json\n",
    "\n",
    "PATH = f'..\\\\FakeNewsNet\\\\code\\\\fakenewsnet_dataset\\\\'\n",
    "\n",
    "real_tweets = set()\n",
    "fake_tweets = set()\n",
    "\n",
    "for status in ['real', 'fake']:\n",
    "    for category in ['gossipcop', 'politifact']:\n",
    "        source = os.listdir(PATH+f'{category}\\\\{status}\\\\')[0]\n",
    "        DIR = PATH+f\"{category}\\\\{status}\\\\{source}\\\\tweets\\\\\"\n",
    "        print(DIR)\n",
    "        print(len(set(os.listdir(DIR))))\n",
    "        for file in os.listdir(DIR):\n",
    "            with open(DIR+file) as f:\n",
    "                text = f.read()\n",
    "                t = json.loads(text)\n",
    "                if status=='real':\n",
    "                    real_tweets.add(t.get('text'))\n",
    "                else:\n",
    "                    fake_tweets.add(t.get('text'))\n",
    "        print(\"Counts for real and fake tweets:\", (len(real_tweets), len(fake_tweets)))"
   ]
  },
  {
   "cell_type": "code",
   "execution_count": 7,
   "metadata": {
    "scrolled": false
   },
   "outputs": [],
   "source": [
    "df_final = pd.DataFrame({'text':list(real_tweets)+list(fake_tweets), 'label':([1]*len(real_tweets)) + ([0]*len(fake_tweets))})"
   ]
  },
  {
   "cell_type": "code",
   "execution_count": 8,
   "metadata": {},
   "outputs": [],
   "source": [
    "import string\n",
    "import re\n",
    "\n",
    "df_final['text'] = df_final['text'].apply(lambda x:re.sub(r'http\\S+', '', x))\n",
    "df_final['text'] = df_final['text'].apply(lambda x:re.sub(r'@\\S+ ', '', x))\n",
    "df_final['text'] = df_final['text'].apply(lambda x:''.join(i for i in x if not i.isdigit()))\n",
    "table = str.maketrans(string.punctuation, ' '*len(string.punctuation))\n",
    "df_final['text'] = df_final['text'].str.translate(table)\n",
    "df_final['text'] = df_final['text'].str.replace(' +', ' ')\n",
    "df_final['text'] = df_final['text'].str.lower()\n",
    "df_final['text'] = df_final['text'].str.strip()"
   ]
  },
  {
   "cell_type": "code",
   "execution_count": 9,
   "metadata": {},
   "outputs": [
    {
     "data": {
      "text/html": [
       "<div>\n",
       "<style scoped>\n",
       "    .dataframe tbody tr th:only-of-type {\n",
       "        vertical-align: middle;\n",
       "    }\n",
       "\n",
       "    .dataframe tbody tr th {\n",
       "        vertical-align: top;\n",
       "    }\n",
       "\n",
       "    .dataframe thead th {\n",
       "        text-align: right;\n",
       "    }\n",
       "</style>\n",
       "<table border=\"1\" class=\"dataframe\">\n",
       "  <thead>\n",
       "    <tr style=\"text-align: right;\">\n",
       "      <th></th>\n",
       "      <th>text</th>\n",
       "      <th>label</th>\n",
       "    </tr>\n",
       "  </thead>\n",
       "  <tbody>\n",
       "    <tr>\n",
       "      <th>0</th>\n",
       "      <td>more vitamin d lower risk of severe covid</td>\n",
       "      <td>1</td>\n",
       "    </tr>\n",
       "    <tr>\n",
       "      <th>1</th>\n",
       "      <td>trump to order meat processing plants to remai...</td>\n",
       "      <td>1</td>\n",
       "    </tr>\n",
       "    <tr>\n",
       "      <th>2</th>\n",
       "      <td>lockdowns making things worse for obese americ...</td>\n",
       "      <td>1</td>\n",
       "    </tr>\n",
       "    <tr>\n",
       "      <th>3</th>\n",
       "      <td>icymi last week several researchers and expert...</td>\n",
       "      <td>1</td>\n",
       "    </tr>\n",
       "    <tr>\n",
       "      <th>4</th>\n",
       "      <td>trump signs coronavirus relief package into law</td>\n",
       "      <td>1</td>\n",
       "    </tr>\n",
       "  </tbody>\n",
       "</table>\n",
       "</div>"
      ],
      "text/plain": [
       "                                                text  label\n",
       "0          more vitamin d lower risk of severe covid      1\n",
       "1  trump to order meat processing plants to remai...      1\n",
       "2  lockdowns making things worse for obese americ...      1\n",
       "3  icymi last week several researchers and expert...      1\n",
       "4    trump signs coronavirus relief package into law      1"
      ]
     },
     "execution_count": 9,
     "metadata": {},
     "output_type": "execute_result"
    }
   ],
   "source": [
    "df_final.head()"
   ]
  },
  {
   "cell_type": "code",
   "execution_count": 10,
   "metadata": {},
   "outputs": [
    {
     "data": {
      "text/plain": [
       "text     0\n",
       "label    0\n",
       "dtype: int64"
      ]
     },
     "execution_count": 10,
     "metadata": {},
     "output_type": "execute_result"
    }
   ],
   "source": [
    "df_final.isnull().sum()"
   ]
  },
  {
   "cell_type": "code",
   "execution_count": 11,
   "metadata": {},
   "outputs": [
    {
     "data": {
      "text/plain": [
       "(136815, 2)"
      ]
     },
     "execution_count": 11,
     "metadata": {},
     "output_type": "execute_result"
    }
   ],
   "source": [
    "df_final.shape"
   ]
  },
  {
   "cell_type": "code",
   "execution_count": 12,
   "metadata": {},
   "outputs": [
    {
     "name": "stdout",
     "output_type": "stream",
     "text": [
      "tmp_dir\\another_dir\n"
     ]
    }
   ],
   "source": [
    "import os\n",
    "p = 'tmp_dir/another_dir/saved_df.csv'\n",
    "print(os.path.join(*p.split('/')[:2]))\n",
    "os.makedirs(os.path.join(*p.split('/')[:2]), exist_ok=True)\n",
    "df_final.to_csv(p, index=False)"
   ]
  },
  {
   "cell_type": "code",
   "execution_count": 13,
   "metadata": {
    "scrolled": true
   },
   "outputs": [
    {
     "data": {
      "text/plain": [
       "1    129303\n",
       "0      7512\n",
       "Name: label, dtype: int64"
      ]
     },
     "execution_count": 13,
     "metadata": {},
     "output_type": "execute_result"
    }
   ],
   "source": [
    "df_final.label.value_counts()"
   ]
  },
  {
   "cell_type": "code",
   "execution_count": 14,
   "metadata": {},
   "outputs": [
    {
     "data": {
      "text/plain": [
       "(25336, 2)"
      ]
     },
     "execution_count": 14,
     "metadata": {},
     "output_type": "execute_result"
    }
   ],
   "source": [
    "pd.read_csv('data/shorttextpreprocessedtrain.csv').shape"
   ]
  },
  {
   "cell_type": "code",
   "execution_count": 15,
   "metadata": {},
   "outputs": [],
   "source": [
    "df_final_final = df_final.append(pd.read_csv('data/shorttextpreprocessedtrain.csv'))"
   ]
  },
  {
   "cell_type": "code",
   "execution_count": 17,
   "metadata": {},
   "outputs": [],
   "source": [
    "df_final_final = df_final_final.sample(frac = 1)"
   ]
  },
  {
   "cell_type": "code",
   "execution_count": 18,
   "metadata": {},
   "outputs": [],
   "source": [
    "df_final_final.to_csv('data/newdatasetwithcoviddata.csv', index=False)"
   ]
  },
  {
   "cell_type": "code",
   "execution_count": 19,
   "metadata": {},
   "outputs": [],
   "source": [
    "df_final_final = pd.read_csv('data/newdatasetwithcoviddata.csv').dropna()\n",
    "df_final_final.to_csv('data/newdatasetwithcoviddata.csv', index=False)"
   ]
  },
  {
   "cell_type": "code",
   "execution_count": 20,
   "metadata": {},
   "outputs": [
    {
     "data": {
      "text/plain": [
       "text     0\n",
       "label    0\n",
       "dtype: int64"
      ]
     },
     "execution_count": 20,
     "metadata": {},
     "output_type": "execute_result"
    }
   ],
   "source": [
    "pd.read_csv('data/newdatasetwithcoviddata.csv').isnull().sum()"
   ]
  },
  {
   "cell_type": "markdown",
   "metadata": {},
   "source": [
    "### Trying out multiprocessing"
   ]
  },
  {
   "cell_type": "code",
   "execution_count": 21,
   "metadata": {},
   "outputs": [],
   "source": [
    "# import pandas as pd\n",
    "# import multiprocessing as mp\n",
    "# import time\n",
    "# import re \n",
    "# from nltk.corpus import stopwords\n",
    "# import string\n",
    "\n",
    "# t = str.maketrans(dict.fromkeys(string.punctuation))\n",
    "\n",
    "# def clean_text(text): \n",
    "#     # Remove stop words\n",
    "#     stops = set(stopwords.words(\"english\"))\n",
    "#     text = \" \".join(list(set(text.lower().split()) - stops))\n",
    "#     # Remove Special Characters\n",
    "#     text = text.translate(t)\n",
    "#     # removing the extra spaces\n",
    "#     text = re.sub(' +',' ', text)\n",
    "#     return text\n",
    "\n",
    "# df = pd.read_csv(\"src/Blob_04_05_2021/request_2667/fileblock_0.csv\") # file loading\n",
    "# print(\"Columns of the dataset\", list(df.columns))\n",
    "# print(\"Total records of the dataset\", len(df))\n",
    "\n",
    "# # Before Parallel Processing\n",
    "# df1 = df.copy()\n",
    "# t1 = time.time()\n",
    "# df1['tweet'] = df1['tweet'].apply(clean_text)\n",
    "# t2 = time.time()\n",
    "# print(\"time consuming before Parallel Processing to process the Dataset {0:.2f}s\".format(round(t2-t1, 2)))\n",
    "\n",
    "# # After Parallel Processing\n",
    "# p = mp.Pool(mp.cpu_count()-1) # Data parallelism Object\n",
    "# df2 = df.copy()\n",
    "# t3 = time.time()\n",
    "# df2['tweet'] = p.map(clean_text, df2['tweet'])\n",
    "# t4 = time.time()\n",
    "\n",
    "# print(\"time consuming after Parallel Processing to process the Dataset {0:.2f}s\".format(round(t4-t3, 2)))"
   ]
  },
  {
   "cell_type": "code",
   "execution_count": null,
   "metadata": {},
   "outputs": [],
   "source": []
  }
 ],
 "metadata": {
  "kernelspec": {
   "display_name": "Python 3",
   "language": "python",
   "name": "python3"
  },
  "language_info": {
   "codemirror_mode": {
    "name": "ipython",
    "version": 3
   },
   "file_extension": ".py",
   "mimetype": "text/x-python",
   "name": "python",
   "nbconvert_exporter": "python",
   "pygments_lexer": "ipython3",
   "version": "3.7.6"
  }
 },
 "nbformat": 4,
 "nbformat_minor": 2
}
